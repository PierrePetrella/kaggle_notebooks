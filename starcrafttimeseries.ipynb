{
 "cells": [
  {
   "cell_type": "code",
   "execution_count": null,
   "metadata": {
    "_cell_guid": "b1076dfc-b9ad-4769-8c92-a6c4dae69d19",
    "_uuid": "8f2839f25d086af736a60e9eeb907d3b93b6e0e5"
   },
   "outputs": [],
   "source": [
    "# This Python 3 environment comes with many helpful analytics libraries installed\n",
    "# It is defined by the kaggle/python Docker image: https://github.com/kaggle/docker-python\n",
    "# For example, here's several helpful packages to load\n",
    "\n",
    "import numpy as np # linear algebra\n",
    "import pandas as pd # data processing, CSV file I/O (e.g. pd.read_csv)\n",
    "\n",
    "# Input data files are available in the read-only \"../input/\" directory\n",
    "# For example, running this (by clicking run or pressing Shift+Enter) will list all files under the input directory\n",
    "\n",
    "import os\n",
    "for dirname, _, filenames in os.walk('/kaggle/input'):\n",
    "    for filename in filenames:\n",
    "        print(os.path.join(dirname, filename))\n",
    "\n",
    "# You can write up to 5GB to the current directory (/kaggle/working/) that gets preserved as output when you create a version using \"Save & Run All\" \n",
    "# You can also write temporary files to /kaggle/temp/, but they won't be saved outside of the current session"
   ]
  },
  {
   "cell_type": "markdown",
   "metadata": {},
   "source": [
    "# Data Collecting"
   ]
  },
  {
   "cell_type": "code",
   "execution_count": 1,
   "metadata": {},
   "outputs": [
    {
     "name": "stdout",
     "output_type": "stream",
     "text": [
      "Collecting dtw-python\n",
      "  Downloading dtw_python-1.1.6-cp37-cp37m-macosx_10_9_x86_64.whl (299 kB)\n",
      "\u001b[K     |████████████████████████████████| 299 kB 1.8 MB/s eta 0:00:01\n",
      "\u001b[?25hRequirement already satisfied: scipy>=1.1 in /opt/anaconda3/envs/pyTorch_projets/lib/python3.7/site-packages (from dtw-python) (1.5.2)\n",
      "Requirement already satisfied: numpy>=1.12 in /opt/anaconda3/envs/pyTorch_projets/lib/python3.7/site-packages (from dtw-python) (1.19.1)\n",
      "Installing collected packages: dtw-python\n",
      "Successfully installed dtw-python-1.1.6\n",
      "Note: you may need to restart the kernel to use updated packages.\n"
     ]
    }
   ],
   "source": [
    "pip install dtw-python"
   ]
  },
  {
   "cell_type": "code",
   "execution_count": null,
   "metadata": {},
   "outputs": [],
   "source": [
    "# Libraries\n",
    "import pandas as pd\n",
    "import numpy as np\n",
    "#from numpy import genfromtxt\n",
    "pd.options.mode.chained_assignment = None\n",
    "from sklearn import preprocessing\n",
    "from dtw import *\n",
    "import time"
   ]
  },
  {
   "cell_type": "markdown",
   "metadata": {},
   "source": [
    "# Reading data - fetching TRAIN.csv data from the long version"
   ]
  },
  {
   "cell_type": "code",
   "execution_count": 4,
   "metadata": {
    "_cell_guid": "79c7e3d0-c299-4dcb-8224-4455121ee9b0",
    "_uuid": "d629ff2d2480ee46fbb7e2d37f6b5fab8052498a"
   },
   "outputs": [
    {
     "name": "stderr",
     "output_type": "stream",
     "text": [
      "/opt/anaconda3/envs/pyTorch_projets/lib/python3.7/site-packages/IPython/core/interactiveshell.py:3146: DtypeWarning: Columns (6427,6428,6429,6430,6431,6432,6433,6434,6435,6436,6437,6438,6439,6440,6441,6442,6443,6444,6445,6446,6447,6448,6449,6450,6451,6452,6453,6454,6455,6456,6457,6458,6459,6460,6461,6462,6463,6464,6465,6466,6467,6468,6469,6470,6471,6472,6473,6474,6475,6476,6477,6478,6479,6480,6481,6482,6483,6484,6485,6486,6487,6488,6489,6490,6491,6492,6493,6494,6495,6496,6497,6498,6499,6500,6501,6502,6503,6504,6505,6506,6507,6508,6509,6510,6511,6512,6513,6514,6515,6516,6517,6518,6519,6520,6521,6522,6523,6524,6525,6526,6527,6528,6529,6530,6531,6532,6533,6534,6535,6536,6537,6538,6539,6540,6541,6542,6543,6544,6545,6546,6547,6548,6549,6550,6551,6552,6553,6554,6555,6556,6557,6558,6559,6560,6561,6562,6563,6564,6565,6566,6567,6568,6569,6570,6571,6572,6573,6574,6575,6576,6577,6578,6579,6580,6581,6582,6583,6584,6585,6586,6587,6588,6589,6590,6591,6592,6593,6594,6595,6596,6597,6598,6599,6600,6601,6602,6603,6604,6605,6606,6607,6608,6609,6610,6611,6612,6613,6614,6615,6616,6617,6618,6619,6620,6621,6622,6623,6624,6625,6626,6627,6628,6629,6630,6631,6632,6633,6634,6635,6636,6637,6638,6639,6640,6641,6642,6643,6644,6645,6646,6647,6648,6649,6650,6651,6652,6653,6654,6655,6656,6657,6658,6659,6660,6661,6662,6663,6664,6665,6666,6667,6668,6669,6670,6671,6672,6673,6674,6675,6676,6677,6678,6679,6680,6681,6682,6683,6684,6685,6686,6687,6688,6689,6690,6691,6692,6693,6694) have mixed types.Specify dtype option on import or set low_memory=False.\n",
      "  interactivity=interactivity, compiler=compiler, result=result)\n"
     ]
    },
    {
     "name": "stdout",
     "output_type": "stream",
     "text": [
      "lenth_of_line 6695\n",
      "n_training_games 3052\n"
     ]
    }
   ],
   "source": [
    "#lenth_of_line = 6695 # can be automated\n",
    "#path = \"/kaggle/input/starcraft-2-player-prediction-challenge-2020/TRAIN_LONG.CSV\"\n",
    "path = \"./data/TRAIN_LONG.CSV\"\n",
    "df_train_tmp = pd.read_csv(path, error_bad_lines=False, warn_bad_lines=False)\n",
    "lenth_of_line = df_train_tmp.shape[1]\n",
    "print (\"lenth_of_line\", lenth_of_line)\n",
    "\n",
    "colnames = list()\n",
    "colnames.append(\"id\")\n",
    "colnames.append(\"game_type\")\n",
    "for i in range (lenth_of_line-2):\n",
    "    colnames.append(\"move\"+str(i))\n",
    "len (colnames)\n",
    "\n",
    "df_train = pd.read_csv(path,names=colnames, header=None, error_bad_lines=False, warn_bad_lines=False)\n",
    "n_training_games = df_train.shape[0]\n",
    "print (\"n_training_games\", n_training_games)"
   ]
  },
  {
   "cell_type": "code",
   "execution_count": 5,
   "metadata": {},
   "outputs": [
    {
     "data": {
      "text/html": [
       "<div>\n",
       "<style scoped>\n",
       "    .dataframe tbody tr th:only-of-type {\n",
       "        vertical-align: middle;\n",
       "    }\n",
       "\n",
       "    .dataframe tbody tr th {\n",
       "        vertical-align: top;\n",
       "    }\n",
       "\n",
       "    .dataframe thead th {\n",
       "        text-align: right;\n",
       "    }\n",
       "</style>\n",
       "<table border=\"1\" class=\"dataframe\">\n",
       "  <thead>\n",
       "    <tr style=\"text-align: right;\">\n",
       "      <th></th>\n",
       "      <th>id</th>\n",
       "      <th>game_type</th>\n",
       "      <th>move0</th>\n",
       "      <th>move1</th>\n",
       "      <th>move2</th>\n",
       "      <th>move3</th>\n",
       "      <th>move4</th>\n",
       "      <th>move5</th>\n",
       "      <th>move6</th>\n",
       "      <th>move7</th>\n",
       "      <th>...</th>\n",
       "      <th>move6683</th>\n",
       "      <th>move6684</th>\n",
       "      <th>move6685</th>\n",
       "      <th>move6686</th>\n",
       "      <th>move6687</th>\n",
       "      <th>move6688</th>\n",
       "      <th>move6689</th>\n",
       "      <th>move6690</th>\n",
       "      <th>move6691</th>\n",
       "      <th>move6692</th>\n",
       "    </tr>\n",
       "  </thead>\n",
       "  <tbody>\n",
       "    <tr>\n",
       "      <th>0</th>\n",
       "      <td>http://eu.battle.net/sc2/en/profile/4234852/1/...</td>\n",
       "      <td>Protoss</td>\n",
       "      <td>6:CameraEvent:26.0:155.7578125</td>\n",
       "      <td>16:SelectionEvent:Nexus</td>\n",
       "      <td>18:BasicCommandEvent:TrainProbe</td>\n",
       "      <td>21:SelectionEvent:Probe;Probe</td>\n",
       "      <td>25:TargetPointCommandEvent:27.7021484375:162.0...</td>\n",
       "      <td>32:SelectionEvent:Probe</td>\n",
       "      <td>33:TargetUnitCommandEvent:CAbil:MineralField</td>\n",
       "      <td>43:SelectionEvent:Probe</td>\n",
       "      <td>...</td>\n",
       "      <td>26431:TargetPointCommandEvent:46.4304199219:14...</td>\n",
       "      <td>26434:TargetPointCommandEvent:46.6022949219:14...</td>\n",
       "      <td>26439:ControlGroupEvent:3:2</td>\n",
       "      <td>26439:CameraEvent:59.4609375:144.640625</td>\n",
       "      <td>26441:CameraEvent:59.4609375:140.4140625</td>\n",
       "      <td>26441:ControlGroupEvent:4:2</td>\n",
       "      <td>26442:CameraEvent:59.4609375:137.7265625</td>\n",
       "      <td>26446:ControlGroupEvent:5:2</td>\n",
       "      <td>26449:ControlGroupEvent:6:2</td>\n",
       "      <td>26476:ChatEvent:\"gg\"</td>\n",
       "    </tr>\n",
       "    <tr>\n",
       "      <th>1</th>\n",
       "      <td>http://eu.battle.net/sc2/en/profile/3074362/1/...</td>\n",
       "      <td>Protoss</td>\n",
       "      <td>6:CameraEvent:158.0:24.7578125</td>\n",
       "      <td>21:SelectionEvent:Probe;Probe</td>\n",
       "      <td>22:TargetUnitCommandEvent:CAbil:MineralField</td>\n",
       "      <td>28:SelectionEvent:Nexus</td>\n",
       "      <td>29:BasicCommandEvent:TrainProbe</td>\n",
       "      <td>32:SelectionEvent:Probe</td>\n",
       "      <td>33:TargetUnitCommandEvent:CAbil:MineralField</td>\n",
       "      <td>40:SelectionEvent:Nexus</td>\n",
       "      <td>...</td>\n",
       "      <td>NaN</td>\n",
       "      <td>NaN</td>\n",
       "      <td>NaN</td>\n",
       "      <td>NaN</td>\n",
       "      <td>NaN</td>\n",
       "      <td>NaN</td>\n",
       "      <td>NaN</td>\n",
       "      <td>NaN</td>\n",
       "      <td>NaN</td>\n",
       "      <td>NaN</td>\n",
       "    </tr>\n",
       "    <tr>\n",
       "      <th>2</th>\n",
       "      <td>http://eu.battle.net/sc2/en/profile/4234852/1/...</td>\n",
       "      <td>Protoss</td>\n",
       "      <td>4:CameraEvent:140.0:24.7578125</td>\n",
       "      <td>14:SelectionEvent:Nexus</td>\n",
       "      <td>16:BasicCommandEvent:TrainProbe</td>\n",
       "      <td>18:SelectionEvent:Probe;Probe</td>\n",
       "      <td>21:TargetUnitCommandEvent:CAbil:MineralField</td>\n",
       "      <td>28:SelectionEvent:Probe</td>\n",
       "      <td>30:TargetUnitCommandEvent:CAbil:MineralField</td>\n",
       "      <td>34:TargetUnitCommandEvent:CAbil:MineralField</td>\n",
       "      <td>...</td>\n",
       "      <td>NaN</td>\n",
       "      <td>NaN</td>\n",
       "      <td>NaN</td>\n",
       "      <td>NaN</td>\n",
       "      <td>NaN</td>\n",
       "      <td>NaN</td>\n",
       "      <td>NaN</td>\n",
       "      <td>NaN</td>\n",
       "      <td>NaN</td>\n",
       "      <td>NaN</td>\n",
       "    </tr>\n",
       "  </tbody>\n",
       "</table>\n",
       "<p>3 rows × 6695 columns</p>\n",
       "</div>"
      ],
      "text/plain": [
       "                                                  id game_type  \\\n",
       "0  http://eu.battle.net/sc2/en/profile/4234852/1/...   Protoss   \n",
       "1  http://eu.battle.net/sc2/en/profile/3074362/1/...   Protoss   \n",
       "2  http://eu.battle.net/sc2/en/profile/4234852/1/...   Protoss   \n",
       "\n",
       "                            move0                          move1  \\\n",
       "0  6:CameraEvent:26.0:155.7578125        16:SelectionEvent:Nexus   \n",
       "1  6:CameraEvent:158.0:24.7578125  21:SelectionEvent:Probe;Probe   \n",
       "2  4:CameraEvent:140.0:24.7578125        14:SelectionEvent:Nexus   \n",
       "\n",
       "                                          move2  \\\n",
       "0               18:BasicCommandEvent:TrainProbe   \n",
       "1  22:TargetUnitCommandEvent:CAbil:MineralField   \n",
       "2               16:BasicCommandEvent:TrainProbe   \n",
       "\n",
       "                           move3  \\\n",
       "0  21:SelectionEvent:Probe;Probe   \n",
       "1        28:SelectionEvent:Nexus   \n",
       "2  18:SelectionEvent:Probe;Probe   \n",
       "\n",
       "                                               move4                    move5  \\\n",
       "0  25:TargetPointCommandEvent:27.7021484375:162.0...  32:SelectionEvent:Probe   \n",
       "1                    29:BasicCommandEvent:TrainProbe  32:SelectionEvent:Probe   \n",
       "2       21:TargetUnitCommandEvent:CAbil:MineralField  28:SelectionEvent:Probe   \n",
       "\n",
       "                                          move6  \\\n",
       "0  33:TargetUnitCommandEvent:CAbil:MineralField   \n",
       "1  33:TargetUnitCommandEvent:CAbil:MineralField   \n",
       "2  30:TargetUnitCommandEvent:CAbil:MineralField   \n",
       "\n",
       "                                          move7  ...  \\\n",
       "0                       43:SelectionEvent:Probe  ...   \n",
       "1                       40:SelectionEvent:Nexus  ...   \n",
       "2  34:TargetUnitCommandEvent:CAbil:MineralField  ...   \n",
       "\n",
       "                                            move6683  \\\n",
       "0  26431:TargetPointCommandEvent:46.4304199219:14...   \n",
       "1                                                NaN   \n",
       "2                                                NaN   \n",
       "\n",
       "                                            move6684  \\\n",
       "0  26434:TargetPointCommandEvent:46.6022949219:14...   \n",
       "1                                                NaN   \n",
       "2                                                NaN   \n",
       "\n",
       "                      move6685                                 move6686  \\\n",
       "0  26439:ControlGroupEvent:3:2  26439:CameraEvent:59.4609375:144.640625   \n",
       "1                          NaN                                      NaN   \n",
       "2                          NaN                                      NaN   \n",
       "\n",
       "                                   move6687                     move6688  \\\n",
       "0  26441:CameraEvent:59.4609375:140.4140625  26441:ControlGroupEvent:4:2   \n",
       "1                                       NaN                          NaN   \n",
       "2                                       NaN                          NaN   \n",
       "\n",
       "                                   move6689                     move6690  \\\n",
       "0  26442:CameraEvent:59.4609375:137.7265625  26446:ControlGroupEvent:5:2   \n",
       "1                                       NaN                          NaN   \n",
       "2                                       NaN                          NaN   \n",
       "\n",
       "                      move6691              move6692  \n",
       "0  26449:ControlGroupEvent:6:2  26476:ChatEvent:\"gg\"  \n",
       "1                          NaN                   NaN  \n",
       "2                          NaN                   NaN  \n",
       "\n",
       "[3 rows x 6695 columns]"
      ]
     },
     "execution_count": 5,
     "metadata": {},
     "output_type": "execute_result"
    }
   ],
   "source": [
    "df_train.head(3)"
   ]
  },
  {
   "cell_type": "markdown",
   "metadata": {},
   "source": [
    "# Cleaning Training Data"
   ]
  },
  {
   "cell_type": "code",
   "execution_count": 6,
   "metadata": {},
   "outputs": [
    {
     "data": {
      "text/html": [
       "<div>\n",
       "<style scoped>\n",
       "    .dataframe tbody tr th:only-of-type {\n",
       "        vertical-align: middle;\n",
       "    }\n",
       "\n",
       "    .dataframe tbody tr th {\n",
       "        vertical-align: top;\n",
       "    }\n",
       "\n",
       "    .dataframe thead th {\n",
       "        text-align: right;\n",
       "    }\n",
       "</style>\n",
       "<table border=\"1\" class=\"dataframe\">\n",
       "  <thead>\n",
       "    <tr style=\"text-align: right;\">\n",
       "      <th></th>\n",
       "      <th>id</th>\n",
       "      <th>game_type</th>\n",
       "      <th>move0</th>\n",
       "      <th>move1</th>\n",
       "      <th>move2</th>\n",
       "      <th>move3</th>\n",
       "      <th>move4</th>\n",
       "      <th>move5</th>\n",
       "      <th>move6</th>\n",
       "      <th>move7</th>\n",
       "      <th>...</th>\n",
       "      <th>move6683</th>\n",
       "      <th>move6684</th>\n",
       "      <th>move6685</th>\n",
       "      <th>move6686</th>\n",
       "      <th>move6687</th>\n",
       "      <th>move6688</th>\n",
       "      <th>move6689</th>\n",
       "      <th>move6690</th>\n",
       "      <th>move6691</th>\n",
       "      <th>move6692</th>\n",
       "    </tr>\n",
       "  </thead>\n",
       "  <tbody>\n",
       "    <tr>\n",
       "      <th>3044</th>\n",
       "      <td>http://xx.battle.net/sc2/en/profile/405/1/MMA/</td>\n",
       "      <td>Terran</td>\n",
       "      <td>4:CameraEvent:158.0:155.7578125</td>\n",
       "      <td>14:SelectionEvent:OrbitalCommandFlying</td>\n",
       "      <td>14:BasicCommandEvent:TrainSCV</td>\n",
       "      <td>18:SelectionEvent:SCV</td>\n",
       "      <td>20:TargetPointCommandEvent:156.681396484:160.1...</td>\n",
       "      <td>24:TargetUnitCommandEvent:CAbil:MineralField</td>\n",
       "      <td>30:SelectionEvent:OrbitalCommandFlying</td>\n",
       "      <td>34:TargetUnitCommandEvent:CAbil:MineralField</td>\n",
       "      <td>...</td>\n",
       "      <td>NaN</td>\n",
       "      <td>NaN</td>\n",
       "      <td>NaN</td>\n",
       "      <td>NaN</td>\n",
       "      <td>NaN</td>\n",
       "      <td>NaN</td>\n",
       "      <td>NaN</td>\n",
       "      <td>NaN</td>\n",
       "      <td>NaN</td>\n",
       "      <td>NaN</td>\n",
       "    </tr>\n",
       "    <tr>\n",
       "      <th>3045</th>\n",
       "      <td>http://xx.battle.net/sc2/en/profile/410/1/STBo...</td>\n",
       "      <td>Terran</td>\n",
       "      <td>5:CameraEvent:26.99609375:134.7578125</td>\n",
       "      <td>14:SelectionEvent:OrbitalCommand</td>\n",
       "      <td>14:BasicCommandEvent:TrainSCV</td>\n",
       "      <td>18:SelectionEvent:SCV</td>\n",
       "      <td>21:TargetUnitCommandEvent:CAbil:MineralField</td>\n",
       "      <td>25:ControlGroupEvent:1:0</td>\n",
       "      <td>28:SelectionEvent:OrbitalCommand</td>\n",
       "      <td>28:ControlGroupEvent:2:0</td>\n",
       "      <td>...</td>\n",
       "      <td>NaN</td>\n",
       "      <td>NaN</td>\n",
       "      <td>NaN</td>\n",
       "      <td>NaN</td>\n",
       "      <td>NaN</td>\n",
       "      <td>NaN</td>\n",
       "      <td>NaN</td>\n",
       "      <td>NaN</td>\n",
       "      <td>NaN</td>\n",
       "      <td>NaN</td>\n",
       "    </tr>\n",
       "    <tr>\n",
       "      <th>3046</th>\n",
       "      <td>http://xx.battle.net/sc2/en/profile/405/1/MMA/</td>\n",
       "      <td>Terran</td>\n",
       "      <td>4:CameraEvent:117.0:21.7578125</td>\n",
       "      <td>17:SelectionEvent:OrbitalCommand</td>\n",
       "      <td>17:BasicCommandEvent:TrainSCV</td>\n",
       "      <td>21:SelectionEvent:SCV</td>\n",
       "      <td>21:TargetPointCommandEvent:115.664550781:20.94...</td>\n",
       "      <td>25:TargetUnitCommandEvent:CAbil:MineralField</td>\n",
       "      <td>30:SelectionEvent:OrbitalCommand</td>\n",
       "      <td>36:ControlGroupEvent:1:0</td>\n",
       "      <td>...</td>\n",
       "      <td>NaN</td>\n",
       "      <td>NaN</td>\n",
       "      <td>NaN</td>\n",
       "      <td>NaN</td>\n",
       "      <td>NaN</td>\n",
       "      <td>NaN</td>\n",
       "      <td>NaN</td>\n",
       "      <td>NaN</td>\n",
       "      <td>NaN</td>\n",
       "      <td>NaN</td>\n",
       "    </tr>\n",
       "  </tbody>\n",
       "</table>\n",
       "<p>3 rows × 6695 columns</p>\n",
       "</div>"
      ],
      "text/plain": [
       "                                                     id game_type  \\\n",
       "3044     http://xx.battle.net/sc2/en/profile/405/1/MMA/    Terran   \n",
       "3045  http://xx.battle.net/sc2/en/profile/410/1/STBo...    Terran   \n",
       "3046     http://xx.battle.net/sc2/en/profile/405/1/MMA/    Terran   \n",
       "\n",
       "                                      move0  \\\n",
       "3044        4:CameraEvent:158.0:155.7578125   \n",
       "3045  5:CameraEvent:26.99609375:134.7578125   \n",
       "3046         4:CameraEvent:117.0:21.7578125   \n",
       "\n",
       "                                       move1                          move2  \\\n",
       "3044  14:SelectionEvent:OrbitalCommandFlying  14:BasicCommandEvent:TrainSCV   \n",
       "3045        14:SelectionEvent:OrbitalCommand  14:BasicCommandEvent:TrainSCV   \n",
       "3046        17:SelectionEvent:OrbitalCommand  17:BasicCommandEvent:TrainSCV   \n",
       "\n",
       "                      move3  \\\n",
       "3044  18:SelectionEvent:SCV   \n",
       "3045  18:SelectionEvent:SCV   \n",
       "3046  21:SelectionEvent:SCV   \n",
       "\n",
       "                                                  move4  \\\n",
       "3044  20:TargetPointCommandEvent:156.681396484:160.1...   \n",
       "3045       21:TargetUnitCommandEvent:CAbil:MineralField   \n",
       "3046  21:TargetPointCommandEvent:115.664550781:20.94...   \n",
       "\n",
       "                                             move5  \\\n",
       "3044  24:TargetUnitCommandEvent:CAbil:MineralField   \n",
       "3045                      25:ControlGroupEvent:1:0   \n",
       "3046  25:TargetUnitCommandEvent:CAbil:MineralField   \n",
       "\n",
       "                                       move6  \\\n",
       "3044  30:SelectionEvent:OrbitalCommandFlying   \n",
       "3045        28:SelectionEvent:OrbitalCommand   \n",
       "3046        30:SelectionEvent:OrbitalCommand   \n",
       "\n",
       "                                             move7  ... move6683 move6684  \\\n",
       "3044  34:TargetUnitCommandEvent:CAbil:MineralField  ...      NaN      NaN   \n",
       "3045                      28:ControlGroupEvent:2:0  ...      NaN      NaN   \n",
       "3046                      36:ControlGroupEvent:1:0  ...      NaN      NaN   \n",
       "\n",
       "     move6685 move6686 move6687 move6688 move6689 move6690 move6691 move6692  \n",
       "3044      NaN      NaN      NaN      NaN      NaN      NaN      NaN      NaN  \n",
       "3045      NaN      NaN      NaN      NaN      NaN      NaN      NaN      NaN  \n",
       "3046      NaN      NaN      NaN      NaN      NaN      NaN      NaN      NaN  \n",
       "\n",
       "[3 rows x 6695 columns]"
      ]
     },
     "execution_count": 6,
     "metadata": {},
     "output_type": "execute_result"
    }
   ],
   "source": [
    "# Cleaning Training Data by removing all games with no move at all (false starts most likely)\n",
    "#df_train.dropna(how='all')\n",
    "df_train.dropna(subset=['move0'], inplace=True)\n",
    "df_train.reset_index(drop=True, inplace = True)\n",
    "df_train.tail(3)"
   ]
  },
  {
   "cell_type": "markdown",
   "metadata": {},
   "source": [
    "# Reading data - fetching TEST.csv data"
   ]
  },
  {
   "cell_type": "code",
   "execution_count": 9,
   "metadata": {},
   "outputs": [
    {
     "name": "stderr",
     "output_type": "stream",
     "text": [
      "/opt/anaconda3/envs/pyTorch_projets/lib/python3.7/site-packages/IPython/core/interactiveshell.py:3146: DtypeWarning: Columns (5810,5811,5812,5813,5814,5815,5816,5817,5818,5819,5820,5821,5822,5823,5824,5825,5826,5827,5828) have mixed types.Specify dtype option on import or set low_memory=False.\n",
      "  interactivity=interactivity, compiler=compiler, result=result)\n"
     ]
    },
    {
     "name": "stdout",
     "output_type": "stream",
     "text": [
      "lenth_of_line 5829\n",
      "n_testing_games 340\n"
     ]
    }
   ],
   "source": [
    "# Reading data - fetching TEST.csv data\n",
    "#path = \"/kaggle/input/starcraft-2-player-prediction-challenge-2020/TEST_LONG.CSV\"\n",
    "path = \"./data/TEST_LONG.CSV\"\n",
    "#lenth_of_line = 3446 # can be automated\n",
    "df_train_tmp = pd.read_csv(path, error_bad_lines=False, warn_bad_lines=False)\n",
    "lenth_of_line = df_train_tmp.shape[1]\n",
    "print (\"lenth_of_line\", lenth_of_line)\n",
    "colnames = list()\n",
    "colnames.append(\"game_type\")\n",
    "for i in range (lenth_of_line-1):\n",
    "    colnames.append(\"move\"+str(i))\n",
    "len (colnames)\n",
    "\n",
    "df_test = pd.read_csv(path,names=colnames, header=None, error_bad_lines=False, warn_bad_lines=False)\n",
    "n_testing_games = df_test.shape[0]\n",
    "print (\"n_testing_games\", n_testing_games)"
   ]
  },
  {
   "cell_type": "code",
   "execution_count": 10,
   "metadata": {},
   "outputs": [
    {
     "data": {
      "text/html": [
       "<div>\n",
       "<style scoped>\n",
       "    .dataframe tbody tr th:only-of-type {\n",
       "        vertical-align: middle;\n",
       "    }\n",
       "\n",
       "    .dataframe tbody tr th {\n",
       "        vertical-align: top;\n",
       "    }\n",
       "\n",
       "    .dataframe thead th {\n",
       "        text-align: right;\n",
       "    }\n",
       "</style>\n",
       "<table border=\"1\" class=\"dataframe\">\n",
       "  <thead>\n",
       "    <tr style=\"text-align: right;\">\n",
       "      <th></th>\n",
       "      <th>game_type</th>\n",
       "      <th>move0</th>\n",
       "      <th>move1</th>\n",
       "      <th>move2</th>\n",
       "      <th>move3</th>\n",
       "      <th>move4</th>\n",
       "      <th>move5</th>\n",
       "      <th>move6</th>\n",
       "      <th>move7</th>\n",
       "      <th>move8</th>\n",
       "      <th>...</th>\n",
       "      <th>move5818</th>\n",
       "      <th>move5819</th>\n",
       "      <th>move5820</th>\n",
       "      <th>move5821</th>\n",
       "      <th>move5822</th>\n",
       "      <th>move5823</th>\n",
       "      <th>move5824</th>\n",
       "      <th>move5825</th>\n",
       "      <th>move5826</th>\n",
       "      <th>move5827</th>\n",
       "    </tr>\n",
       "  </thead>\n",
       "  <tbody>\n",
       "    <tr>\n",
       "      <th>337</th>\n",
       "      <td>Terran</td>\n",
       "      <td>4:CameraEvent:98.0:155.7578125</td>\n",
       "      <td>14:SelectionEvent:OrbitalCommand</td>\n",
       "      <td>16:BasicCommandEvent:TrainSCV</td>\n",
       "      <td>18:SelectionEvent:SCV</td>\n",
       "      <td>21:TargetUnitCommandEvent:CAbil:MineralField</td>\n",
       "      <td>28:ControlGroupEvent:1:0</td>\n",
       "      <td>30:SelectionEvent:OrbitalCommand</td>\n",
       "      <td>32:ControlGroupEvent:2:0</td>\n",
       "      <td>36:SelectionEvent:SCV;SCV;SCV;SCV;SCV</td>\n",
       "      <td>...</td>\n",
       "      <td>NaN</td>\n",
       "      <td>NaN</td>\n",
       "      <td>NaN</td>\n",
       "      <td>NaN</td>\n",
       "      <td>NaN</td>\n",
       "      <td>NaN</td>\n",
       "      <td>NaN</td>\n",
       "      <td>NaN</td>\n",
       "      <td>NaN</td>\n",
       "      <td>NaN</td>\n",
       "    </tr>\n",
       "    <tr>\n",
       "      <th>338</th>\n",
       "      <td>Terran</td>\n",
       "      <td>4:CameraEvent:22.0:15.7578125</td>\n",
       "      <td>14:SelectionEvent:OrbitalCommand</td>\n",
       "      <td>14:BasicCommandEvent:TrainSCV</td>\n",
       "      <td>18:SelectionEvent:SCV</td>\n",
       "      <td>21:TargetPointCommandEvent:19.6926269531:19.27...</td>\n",
       "      <td>26:TargetPointCommandEvent:18.9331054688:19.65...</td>\n",
       "      <td>28:TargetPointCommandEvent:18.6674804688:19.65...</td>\n",
       "      <td>32:TargetUnitCommandEvent:CAbil:MineralField</td>\n",
       "      <td>37:SelectionEvent:OrbitalCommand</td>\n",
       "      <td>...</td>\n",
       "      <td>NaN</td>\n",
       "      <td>NaN</td>\n",
       "      <td>NaN</td>\n",
       "      <td>NaN</td>\n",
       "      <td>NaN</td>\n",
       "      <td>NaN</td>\n",
       "      <td>NaN</td>\n",
       "      <td>NaN</td>\n",
       "      <td>NaN</td>\n",
       "      <td>NaN</td>\n",
       "    </tr>\n",
       "    <tr>\n",
       "      <th>339</th>\n",
       "      <td>Terran</td>\n",
       "      <td>5:CameraEvent:146.0:19.7578125</td>\n",
       "      <td>16:SelectionEvent:OrbitalCommand</td>\n",
       "      <td>16:BasicCommandEvent:TrainSCV</td>\n",
       "      <td>20:SelectionEvent:SCV</td>\n",
       "      <td>22:TargetUnitCommandEvent:CAbil:MineralField</td>\n",
       "      <td>36:ControlGroupEvent:1:0</td>\n",
       "      <td>37:SelectionEvent:OrbitalCommand</td>\n",
       "      <td>40:ControlGroupEvent:2:0</td>\n",
       "      <td>45:SelectionEvent:SCV;SCV;SCV;SCV;SCV;SCV</td>\n",
       "      <td>...</td>\n",
       "      <td>NaN</td>\n",
       "      <td>NaN</td>\n",
       "      <td>NaN</td>\n",
       "      <td>NaN</td>\n",
       "      <td>NaN</td>\n",
       "      <td>NaN</td>\n",
       "      <td>NaN</td>\n",
       "      <td>NaN</td>\n",
       "      <td>NaN</td>\n",
       "      <td>NaN</td>\n",
       "    </tr>\n",
       "  </tbody>\n",
       "</table>\n",
       "<p>3 rows × 5829 columns</p>\n",
       "</div>"
      ],
      "text/plain": [
       "    game_type                           move0  \\\n",
       "337    Terran  4:CameraEvent:98.0:155.7578125   \n",
       "338    Terran   4:CameraEvent:22.0:15.7578125   \n",
       "339    Terran  5:CameraEvent:146.0:19.7578125   \n",
       "\n",
       "                                move1                          move2  \\\n",
       "337  14:SelectionEvent:OrbitalCommand  16:BasicCommandEvent:TrainSCV   \n",
       "338  14:SelectionEvent:OrbitalCommand  14:BasicCommandEvent:TrainSCV   \n",
       "339  16:SelectionEvent:OrbitalCommand  16:BasicCommandEvent:TrainSCV   \n",
       "\n",
       "                     move3                                              move4  \\\n",
       "337  18:SelectionEvent:SCV       21:TargetUnitCommandEvent:CAbil:MineralField   \n",
       "338  18:SelectionEvent:SCV  21:TargetPointCommandEvent:19.6926269531:19.27...   \n",
       "339  20:SelectionEvent:SCV       22:TargetUnitCommandEvent:CAbil:MineralField   \n",
       "\n",
       "                                                 move5  \\\n",
       "337                           28:ControlGroupEvent:1:0   \n",
       "338  26:TargetPointCommandEvent:18.9331054688:19.65...   \n",
       "339                           36:ControlGroupEvent:1:0   \n",
       "\n",
       "                                                 move6  \\\n",
       "337                   30:SelectionEvent:OrbitalCommand   \n",
       "338  28:TargetPointCommandEvent:18.6674804688:19.65...   \n",
       "339                   37:SelectionEvent:OrbitalCommand   \n",
       "\n",
       "                                            move7  \\\n",
       "337                      32:ControlGroupEvent:2:0   \n",
       "338  32:TargetUnitCommandEvent:CAbil:MineralField   \n",
       "339                      40:ControlGroupEvent:2:0   \n",
       "\n",
       "                                         move8  ... move5818 move5819  \\\n",
       "337      36:SelectionEvent:SCV;SCV;SCV;SCV;SCV  ...      NaN      NaN   \n",
       "338           37:SelectionEvent:OrbitalCommand  ...      NaN      NaN   \n",
       "339  45:SelectionEvent:SCV;SCV;SCV;SCV;SCV;SCV  ...      NaN      NaN   \n",
       "\n",
       "    move5820 move5821 move5822 move5823 move5824 move5825 move5826 move5827  \n",
       "337      NaN      NaN      NaN      NaN      NaN      NaN      NaN      NaN  \n",
       "338      NaN      NaN      NaN      NaN      NaN      NaN      NaN      NaN  \n",
       "339      NaN      NaN      NaN      NaN      NaN      NaN      NaN      NaN  \n",
       "\n",
       "[3 rows x 5829 columns]"
      ]
     },
     "execution_count": 10,
     "metadata": {},
     "output_type": "execute_result"
    }
   ],
   "source": [
    "df_test.tail(3)"
   ]
  },
  {
   "cell_type": "markdown",
   "metadata": {},
   "source": [
    "# Extracting Time Series\n",
    "- To be able to compare time series together we need to give them the same time interval between values.\n",
    "- To do so we fill empty values with -1 as a filler.\n",
    "- It is much more difficult to compute the difference between two time series if they have irregular time intervals.\n",
    "- A problem with this encoding is that hotkey 9 is farther to 1 that 0 is to 1 etc. (Catergical values are being compared)"
   ]
  },
  {
   "cell_type": "code",
   "execution_count": 11,
   "metadata": {},
   "outputs": [],
   "source": [
    "# imports\n",
    "from tqdm import tqdm"
   ]
  },
  {
   "cell_type": "markdown",
   "metadata": {},
   "source": [
    "> ## Generating time series with only the hot key number"
   ]
  },
  {
   "cell_type": "code",
   "execution_count": 12,
   "metadata": {},
   "outputs": [],
   "source": [
    "#action = df.iloc[game_index][\"move\"+str(move_number)]\n",
    "# \n",
    "\n",
    "def gererate_time_series(df, ts_size = 960):\n",
    "    #print (\"herrre\")\n",
    "    n_games,len_line= df.shape\n",
    "    #print (n_games,len_line)\n",
    "    time_series = []\n",
    "    for index,data in tqdm(df.iterrows()):\n",
    "        #print (\"here0\")\n",
    "        #time_serie = np.zeros(ts_size)\n",
    "        time_serie = [-1]*ts_size\n",
    "        for move_number in range(len_line-1):\n",
    "            move = data[\"move\"+str(move_number)]\n",
    "            if move == move:\n",
    "                #print (\"here1\")\n",
    "                #print (data[\"move\"+str(move_number)])\n",
    "                move_split = move.split(\":\")\n",
    "                if len(move_split)>=2:\n",
    "                    #print(\"here2\")\n",
    "                    #print(data_split[0])\n",
    "                    #print (data_split)\n",
    "                    frame = int(move_split[0])\n",
    "                    event = move_split[1]\n",
    "                    if frame < ts_size:\n",
    "                        #print (\"here3\") \n",
    "                        if event == \"ControlGroupEvent\":\n",
    "                            event_hotkey = int(move_split[2])\n",
    "                            event_update_type = move_split[3]\n",
    "                            time_serie[frame] = event_hotkey\n",
    "                            #print(event_hotkey)\n",
    "                            #print (frame)\n",
    "                            #print(move)\n",
    "                    else:\n",
    "                        break\n",
    "        #print(\"-------------------------------\")\n",
    "        time_series.append(time_serie) \n",
    "    return time_series"
   ]
  },
  {
   "cell_type": "code",
   "execution_count": 13,
   "metadata": {},
   "outputs": [
    {
     "name": "stderr",
     "output_type": "stream",
     "text": [
      "3047it [00:14, 207.29it/s]\n"
     ]
    }
   ],
   "source": [
    "train_time_series = gererate_time_series(df_train.drop(columns = [\"id\"]),960)"
   ]
  },
  {
   "cell_type": "code",
   "execution_count": 14,
   "metadata": {},
   "outputs": [
    {
     "name": "stderr",
     "output_type": "stream",
     "text": [
      "340it [00:01, 207.68it/s]\n"
     ]
    }
   ],
   "source": [
    "test_time_series = gererate_time_series(df_test,960)"
   ]
  },
  {
   "cell_type": "markdown",
   "metadata": {},
   "source": [
    "## Generating time series with only the hot key number\n",
    "Encoding:\n",
    "- Ex: 12 -> 1 + 0.2*2 -> 1.4\n",
    "- Ex: 30 -> 3 + 0.2*0 -> 3.0\n",
    "- Ex: 91 -> 9 + 0.2*1 -> 9.1"
   ]
  },
  {
   "cell_type": "code",
   "execution_count": 15,
   "metadata": {},
   "outputs": [],
   "source": [
    "## Generating time series with only the hot key number\n",
    "\n",
    "def gererate_time_series_2(df, ts_size = 960):\n",
    "    #print (\"herrre\")\n",
    "    n_games,len_line= df.shape\n",
    "    #print (n_games,len_line)\n",
    "    time_series = []\n",
    "    for index,data in tqdm(df.iterrows()):\n",
    "        #print (\"here0\")\n",
    "        #time_serie = np.zeros(ts_size)\n",
    "        time_serie = [-1]*ts_size\n",
    "        for move_number in range(len_line-1):\n",
    "            move = data[\"move\"+str(move_number)]\n",
    "            if move == move:\n",
    "                #print (\"here1\")\n",
    "                #print (data[\"move\"+str(move_number)])\n",
    "                move_split = move.split(\":\")\n",
    "                if len(move_split)>=2:\n",
    "                    #print(\"here2\")\n",
    "                    #print(data_split[0])\n",
    "                    #print (data_split)\n",
    "                    frame = int(move_split[0])\n",
    "                    event = move_split[1]\n",
    "                    if frame < ts_size:\n",
    "                        #print (\"here3\") \n",
    "                        if event == \"ControlGroupEvent\":\n",
    "                            event_hotkey = int(move_split[2])\n",
    "                            event_update_type = move_split[3]\n",
    "                            time_serie[frame] = float(event_hotkey) + float(event_update_type)*0.2\n",
    "                            #print(event_hotkey)\n",
    "                            #print (frame)\n",
    "                            #print(move)\n",
    "                    else:\n",
    "                        break\n",
    "        #print(\"-------------------------------\")\n",
    "        time_series.append(time_serie) \n",
    "    return time_series "
   ]
  },
  {
   "cell_type": "code",
   "execution_count": 16,
   "metadata": {},
   "outputs": [
    {
     "name": "stderr",
     "output_type": "stream",
     "text": [
      "3047it [00:14, 206.40it/s]\n"
     ]
    }
   ],
   "source": [
    "train_time_series = gererate_time_series_2(df_train.drop(columns = [\"id\"]),960)"
   ]
  },
  {
   "cell_type": "code",
   "execution_count": 17,
   "metadata": {},
   "outputs": [
    {
     "name": "stderr",
     "output_type": "stream",
     "text": [
      "340it [00:01, 230.55it/s]\n"
     ]
    }
   ],
   "source": [
    "test_time_series = gererate_time_series_2(df_test,960)"
   ]
  },
  {
   "cell_type": "code",
   "execution_count": 18,
   "metadata": {},
   "outputs": [
    {
     "name": "stdout",
     "output_type": "stream",
     "text": [
      "We have 3047 time series in the training data\n",
      "Each time series is set to be of length: 960 frames (=1min)\n",
      "Ex [-1, -1, -1, -1, -1, 3.4, -1, -1, -1, 3.4, -1, -1, -1, -1, -1, -1, -1, -1, -1, -1]\n"
     ]
    }
   ],
   "source": [
    "# Train\n",
    "print(\"We have\", len(train_time_series),\"time series in the training data\")\n",
    "print(\"Each time series is set to be of length:\",len(train_time_series[0]),\"frames (=1min)\") # 16frames/sec\n",
    "print (\"Ex\",train_time_series[0][680:700])"
   ]
  },
  {
   "cell_type": "code",
   "execution_count": 19,
   "metadata": {},
   "outputs": [
    {
     "name": "stdout",
     "output_type": "stream",
     "text": [
      "We have 340 time series in the training data\n",
      "Each time series is set to be of length: 960 frames (=1min)\n",
      "Ex [-1, 6.4, -1, -1, -1, -1, -1, 0.4, -1, 6.4, 0.4, 6.4, -1, -1, 0.4, 6.4, -1, -1, -1, -1]\n"
     ]
    }
   ],
   "source": [
    "# Test\n",
    "print(\"We have\", len(test_time_series),\"time series in the training data\")\n",
    "print(\"Each time series is set to be of length:\",len(test_time_series[0]),\"frames (=1min)\") # 16frames/sec\n",
    "print (\"Ex\",test_time_series[0][680:700])"
   ]
  },
  {
   "cell_type": "markdown",
   "metadata": {},
   "source": [
    "# Data Visualisation"
   ]
  },
  {
   "cell_type": "code",
   "execution_count": 20,
   "metadata": {},
   "outputs": [],
   "source": [
    "from matplotlib import pyplot as plt"
   ]
  },
  {
   "cell_type": "markdown",
   "metadata": {},
   "source": [
    "## Plot the first n games of the training set"
   ]
  },
  {
   "cell_type": "code",
   "execution_count": 21,
   "metadata": {},
   "outputs": [
    {
     "name": "stdout",
     "output_type": "stream",
     "text": [
      "We see that different games have different signature time series\n"
     ]
    },
    {
     "data": {
      "image/png": "[encoded data removed]",
      "text/plain": [
       "<Figure size 1008x360 with 1 Axes>"
      ]
     },
     "metadata": {
      "needs_background": "light"
     },
     "output_type": "display_data"
    }
   ],
   "source": [
    "# Plot the first n games\n",
    "first_games = 10\n",
    "plt.figure(1,figsize=(14,5))\n",
    "#player_id = str(df_train['id'][1])\n",
    "x = range(1,len(train_time_series[0])+1)\n",
    "ids = list()\n",
    "for index, data in df_train.iterrows():\n",
    "    if len(ids)>first_games:\n",
    "        break\n",
    "    #print(type(data['id']))\n",
    "    #print(ids)\n",
    "    if str(data['id']) not in ids: \n",
    "        plt.scatter(x,train_time_series[index])\n",
    "        ids.append(data['id'])\n",
    "    \n",
    "    \n",
    "    \n",
    "plt.title(\"Games for first \"+ str(first_games)+\" players\")\n",
    "plt.xlabel('frames')\n",
    "plt.ylabel('moves')\n",
    "print (\"We see that different games have different signature time series\")"
   ]
  },
  {
   "cell_type": "markdown",
   "metadata": {},
   "source": [
    "## Plot all of the games for a given player"
   ]
  },
  {
   "cell_type": "code",
   "execution_count": 22,
   "metadata": {},
   "outputs": [
    {
     "name": "stdout",
     "output_type": "stream",
     "text": [
      "Here we see that for a player, The signature similar between games\n"
     ]
    },
    {
     "data": {
      "image/png": "[encoded data removed]",
      "text/plain": [
       "<Figure size 1008x360 with 1 Axes>"
      ]
     },
     "metadata": {
      "needs_background": "light"
     },
     "output_type": "display_data"
    }
   ],
   "source": [
    "# Plot all of the games for a given player\n",
    "plt.figure(1,figsize=(14,5))\n",
    "player_id = str(df_train['id'][50])\n",
    "x = range(1,len(train_time_series[0])+1)\n",
    "for index, data in df_train.head(len(train_time_series)).iterrows():\n",
    "    if data['id'] == player_id:\n",
    "        plt.scatter(x,train_time_series[index])\n",
    "\n",
    "plt.title(\"All games for player \"+ player_id)\n",
    "plt.xlabel('frames')\n",
    "plt.ylabel('moves')\n",
    "print (\"Here we see that for a player, The signature similar between games\")"
   ]
  },
  {
   "cell_type": "markdown",
   "metadata": {},
   "source": [
    "# Training KNN"
   ]
  },
  {
   "cell_type": "code",
   "execution_count": 23,
   "metadata": {},
   "outputs": [],
   "source": [
    "#custom metric\n",
    "def DTW(a, b):   \n",
    "    return dtw(a, b, dist_method='euclidean',keep_internals=True).distance"
   ]
  },
  {
   "cell_type": "code",
   "execution_count": 24,
   "metadata": {},
   "outputs": [],
   "source": [
    "import numpy as np\n",
    "from scipy.spatial import distance\n",
    "from sklearn.model_selection import train_test_split\n",
    "from sklearn.neighbors import KNeighborsClassifier\n",
    "from sklearn.model_selection import GridSearchCV\n",
    "from sklearn.metrics import classification_report"
   ]
  },
  {
   "cell_type": "code",
   "execution_count": null,
   "metadata": {},
   "outputs": [],
   "source": []
  },
  {
   "cell_type": "code",
   "execution_count": 26,
   "metadata": {},
   "outputs": [
    {
     "name": "stdout",
     "output_type": "stream",
     "text": [
      "1000 1000\n",
      "start fit\n",
      "start eval\n",
      "                                                             precision    recall  f1-score   support\n",
      "\n",
      "      http://eu.battle.net/sc2/en/profile/1021189/1/Dayshi/       0.00      0.00      0.00         0\n",
      "       http://eu.battle.net/sc2/en/profile/1058669/1/Happy/       0.50      1.00      0.67         1\n",
      "    http://eu.battle.net/sc2/en/profile/1143713/1/uThermal/       0.50      0.67      0.57         3\n",
      "http://eu.battle.net/sc2/en/profile/1173786/1/VPbenQsLivko/       1.00      1.00      1.00         1\n",
      "    http://eu.battle.net/sc2/en/profile/1430346/1/ShoWTimE/       0.00      0.00      0.00         1\n",
      "     http://eu.battle.net/sc2/en/profile/2048063/1/AcerBly/       0.00      0.00      0.00         2\n",
      "    http://eu.battle.net/sc2/en/profile/2101268/1/Stephano/       0.00      0.00      0.00         4\n",
      "    http://eu.battle.net/sc2/en/profile/2115876/1/FireCake/       0.00      0.00      0.00         0\n",
      "      http://eu.battle.net/sc2/en/profile/2222468/1/dTefel/       0.00      0.00      0.00         1\n",
      " http://eu.battle.net/sc2/en/profile/2383348/1/LiquidBunny/       0.25      1.00      0.40         1\n",
      "        http://eu.battle.net/sc2/en/profile/2385865/1/elfi/       0.00      0.00      0.00         0\n",
      "     http://eu.battle.net/sc2/en/profile/239335/1/NightEnD/       0.00      0.00      0.00         0\n",
      "     http://eu.battle.net/sc2/en/profile/2452136/1/MinChul/       1.00      1.00      1.00         4\n",
      "       http://eu.battle.net/sc2/en/profile/250458/1/VortiX/       0.67      1.00      0.80         2\n",
      "     http://eu.battle.net/sc2/en/profile/251061/1/LiveZerg/       0.67      0.80      0.73         5\n",
      "         http://eu.battle.net/sc2/en/profile/2526293/1/Krr/       0.00      0.00      0.00         0\n",
      "   http://eu.battle.net/sc2/en/profile/2639840/1/Miniraser/       1.00      1.00      1.00         1\n",
      "   http://eu.battle.net/sc2/en/profile/284466/1/EGDeMusliM/       0.00      0.00      0.00         2\n",
      "     http://eu.battle.net/sc2/en/profile/2896854/1/MǂForGG/       0.22      0.67      0.33         3\n",
      "         http://eu.battle.net/sc2/en/profile/2898004/1/MMA/       1.00      1.00      1.00         1\n",
      "http://eu.battle.net/sc2/en/profile/3010872/1/FnticHarstem/       1.00      1.00      1.00         5\n",
      "    http://eu.battle.net/sc2/en/profile/3074362/1/Stardust/       0.71      0.71      0.71         7\n",
      "       http://eu.battle.net/sc2/en/profile/315813/1/dBlinG/       1.00      1.00      1.00         1\n",
      "    http://eu.battle.net/sc2/en/profile/326029/1/LiquidTLO/       0.50      0.50      0.50         2\n",
      "         http://eu.battle.net/sc2/en/profile/3368730/1/ToD/       0.80      1.00      0.89         4\n",
      "       http://eu.battle.net/sc2/en/profile/3401218/1/Welmu/       1.00      0.67      0.80         3\n",
      "       http://eu.battle.net/sc2/en/profile/3437681/1/Lambo/       1.00      1.00      1.00         1\n",
      "      http://eu.battle.net/sc2/en/profile/349650/1/HasuObs/       0.00      0.00      0.00         0\n",
      "      http://eu.battle.net/sc2/en/profile/3538115/1/Golden/       1.00      0.50      0.67         2\n",
      "   http://eu.battle.net/sc2/en/profile/377576/1/LiquidMaNa/       1.00      0.75      0.86         4\n",
      "     http://eu.battle.net/sc2/en/profile/377903/1/Starbuck/       0.00      0.00      0.00         1\n",
      "      http://eu.battle.net/sc2/en/profile/3971497/1/Genius/       0.00      0.00      0.00         1\n",
      "    http://eu.battle.net/sc2/en/profile/3973341/1/yoeFWSan/       0.00      0.00      0.00         5\n",
      "        http://eu.battle.net/sc2/en/profile/4064798/1/yoda/       1.00      1.00      1.00         2\n",
      "      http://eu.battle.net/sc2/en/profile/4149248/1/JJAKJI/       0.00      0.00      0.00         1\n",
      "       http://eu.battle.net/sc2/en/profile/4234852/1/First/       0.25      1.00      0.40         1\n",
      "    http://eu.battle.net/sc2/en/profile/4341883/1/Patience/       1.00      0.33      0.50         3\n",
      "    http://eu.battle.net/sc2/en/profile/498165/1/EmpireKas/       1.00      0.50      0.67         2\n",
      "      http://eu.battle.net/sc2/en/profile/788178/1/Nerchio/       1.00      0.67      0.80         3\n",
      "  http://eu.battle.net/sc2/en/profile/884897/1/LiquidSnute/       0.33      0.50      0.40         2\n",
      "       http://eu.battle.net/sc2/en/profile/950504/1/Grubby/       0.33      1.00      0.50         1\n",
      "http://kr.battle.net/sc2/en/profile/1106851/2/IlIlIlllIIll/       0.00      0.00      0.00         1\n",
      "       http://kr.battle.net/sc2/en/profile/1126978/2/iGJim/       1.00      1.00      1.00         2\n",
      "       http://kr.battle.net/sc2/en/profile/2240191/1/Heart/       0.00      0.00      0.00         2\n",
      "        http://kr.battle.net/sc2/en/profile/2332264/1/Zest/       0.00      0.00      0.00         1\n",
      "         http://kr.battle.net/sc2/en/profile/2333068/1/DRG/       0.00      0.00      0.00         0\n",
      "       http://kr.battle.net/sc2/en/profile/2333312/1/TAiLS/       1.00      1.00      1.00         1\n",
      "  http://kr.battle.net/sc2/en/profile/2334376/1/INnoVation/       1.00      1.00      1.00         1\n",
      "     http://kr.battle.net/sc2/en/profile/2341467/1/Classic/       1.00      1.00      1.00         2\n",
      "     http://kr.battle.net/sc2/en/profile/2341492/1/PartinG/       0.00      0.00      0.00         0\n",
      "      http://kr.battle.net/sc2/en/profile/2341700/1/Bbyong/       0.00      0.00      0.00         1\n",
      "     http://kr.battle.net/sc2/en/profile/2342120/1/Soulkey/       0.00      0.00      0.00         0\n",
      "       http://kr.battle.net/sc2/en/profile/2342147/1/hydra/       1.00      1.00      1.00         3\n",
      "      http://kr.battle.net/sc2/en/profile/2342269/1/Savage/       0.00      0.00      0.00         1\n",
      "       http://kr.battle.net/sc2/en/profile/2342343/1/Solar/       0.00      0.00      0.00         2\n",
      "         http://kr.battle.net/sc2/en/profile/2342419/1/soO/       1.00      0.83      0.91         6\n",
      "        http://kr.battle.net/sc2/en/profile/2342766/1/ByuL/       1.00      1.00      1.00         1\n",
      "       http://kr.battle.net/sc2/en/profile/2342794/1/Shine/       1.00      1.00      1.00         3\n",
      "        http://kr.battle.net/sc2/en/profile/2343012/1/Maru/       0.00      0.00      0.00         3\n",
      "       http://kr.battle.net/sc2/en/profile/2343067/1/Stork/       0.00      0.00      0.00         0\n",
      "        http://kr.battle.net/sc2/en/profile/2343240/1/Trap/       0.33      0.50      0.40         2\n",
      "        http://kr.battle.net/sc2/en/profile/2343263/1/Ruin/       1.00      1.00      1.00         1\n",
      "        http://kr.battle.net/sc2/en/profile/2343479/1/True/       0.38      1.00      0.55         3\n",
      "        http://kr.battle.net/sc2/en/profile/2343484/1/herO/       1.00      1.00      1.00         1\n",
      "        http://kr.battle.net/sc2/en/profile/2343607/1/Rain/       0.50      1.00      0.67         1\n",
      "         http://kr.battle.net/sc2/en/profile/2343733/1/sOs/       1.00      1.00      1.00         3\n",
      "     http://kr.battle.net/sc2/en/profile/2344230/1/YongHwa/       0.00      0.00      0.00         1\n",
      "    http://kr.battle.net/sc2/en/profile/2344407/1/Ragnarok/       0.50      1.00      0.67         1\n",
      "    http://kr.battle.net/sc2/en/profile/2344428/1/MyuNgSiK/       1.00      1.00      1.00         1\n",
      "        http://kr.battle.net/sc2/en/profile/2344476/1/Dark/       1.00      1.00      1.00         1\n",
      "        http://kr.battle.net/sc2/en/profile/2344987/1/Life/       0.00      0.00      0.00         2\n",
      "    http://kr.battle.net/sc2/en/profile/2348639/1/ParalyzE/       1.00      1.00      1.00         4\n",
      "        http://kr.battle.net/sc2/en/profile/4324250/1/Kane/       0.00      0.00      0.00         0\n",
      " http://kr.battle.net/sc2/en/profile/4529934/1/SpiderCheck/       0.00      0.00      0.00         1\n",
      "  http://us.battle.net/sc2/en/profile/1317068/1/LiquidHerO/       1.00      1.00      1.00         2\n",
      "http://us.battle.net/sc2/en/profile/1640778/1/Guitarcheese/       0.00      0.00      0.00         1\n",
      "      http://us.battle.net/sc2/en/profile/2133676/1/aloOla/       0.00      0.00      0.00         1\n",
      "        http://us.battle.net/sc2/en/profile/2537456/1/Neeb/       0.00      0.00      0.00         1\n",
      "        http://us.battle.net/sc2/en/profile/2541852/1/MaSa/       0.00      0.00      0.00         1\n",
      "        http://us.battle.net/sc2/en/profile/2553612/1/puCK/       0.50      0.50      0.50         2\n",
      "         http://us.battle.net/sc2/en/profile/2575821/1/HuK/       0.00      0.00      0.00         1\n",
      "      http://us.battle.net/sc2/en/profile/2735594/1/coLqxc/       1.00      1.00      1.00         1\n",
      "    http://us.battle.net/sc2/en/profile/2821952/1/KingkOng/       0.00      0.00      0.00         1\n",
      "   http://us.battle.net/sc2/en/profile/3085708/1/SadArthur/       1.00      0.75      0.86         4\n",
      " http://us.battle.net/sc2/en/profile/3179642/1/CMStormPolt/       1.00      1.00      1.00         2\n",
      "      http://us.battle.net/sc2/en/profile/3202227/1/viOLet/       0.86      1.00      0.92         6\n",
      "   http://us.battle.net/sc2/en/profile/3301677/1/CMRevival/       1.00      0.75      0.86         4\n",
      "       http://us.battle.net/sc2/en/profile/3426440/1/PkDOz/       0.25      1.00      0.40         1\n",
      "http://us.battle.net/sc2/en/profile/3426440/1/llllllllllll/       0.00      0.00      0.00         3\n",
      " http://us.battle.net/sc2/en/profile/3502513/1/LiquidTaeJa/       0.00      0.00      0.00         1\n",
      "       http://us.battle.net/sc2/en/profile/3650249/1/CranK/       1.00      0.50      0.67         2\n",
      "    http://us.battle.net/sc2/en/profile/3817071/1/iGMacSed/       0.00      0.00      0.00         0\n",
      "       http://us.battle.net/sc2/en/profile/3819890/1/shofu/       0.00      0.00      0.00         3\n",
      "       http://us.battle.net/sc2/en/profile/3949344/1/WinDy/       0.00      0.00      0.00         1\n",
      "      http://us.battle.net/sc2/en/profile/3985949/1/Bomber/       0.50      0.50      0.50         2\n",
      "     http://us.battle.net/sc2/en/profile/4167590/1/AxHeart/       1.00      0.33      0.50         3\n",
      "    http://us.battle.net/sc2/en/profile/4174681/1/AxAlicia/       1.00      1.00      1.00         1\n",
      "       http://us.battle.net/sc2/en/profile/4176016/1/iaguz/       0.50      1.00      0.67         1\n",
      "        http://us.battle.net/sc2/en/profile/4417787/1/HyuN/       1.00      0.33      0.50         3\n",
      "       http://us.battle.net/sc2/en/profile/443514/1/desRow/       0.00      0.00      0.00         2\n",
      "  http://us.battle.net/sc2/en/profile/4580578/1/ZooCourage/       0.00      0.00      0.00         2\n",
      "  http://us.battle.net/sc2/en/profile/4589387/1/ToodmingCN/       0.25      1.00      0.40         1\n",
      "       http://us.battle.net/sc2/en/profile/4609532/1/aLive/       0.00      0.00      0.00         1\n",
      "    http://us.battle.net/sc2/en/profile/4629528/1/IMNesTea/       0.50      1.00      0.67         1\n",
      "     http://us.battle.net/sc2/en/profile/4665241/1/Pigbaby/       1.00      0.40      0.57         5\n",
      "   http://us.battle.net/sc2/en/profile/5068246/1/yoeFWSlam/       0.00      0.00      0.00         1\n",
      "      http://us.battle.net/sc2/en/profile/5142993/1/Bomber/       0.00      0.00      0.00         1\n",
      " http://us.battle.net/sc2/en/profile/5376901/1/SpiderCheck/       0.00      0.00      0.00         1\n",
      "         http://us.battle.net/sc2/en/profile/5393959/1/Sen/       1.00      1.00      1.00         1\n",
      "        http://us.battle.net/sc2/en/profile/902213/1/Suppy/       1.00      1.00      1.00         1\n",
      "\n",
      "                                                   accuracy                           0.58       200\n",
      "                                                  macro avg       0.46      0.49      0.45       200\n",
      "                                               weighted avg       0.61      0.58      0.57       200\n",
      "\n"
     ]
    },
    {
     "name": "stderr",
     "output_type": "stream",
     "text": [
      "/opt/anaconda3/envs/pyTorch_projets/lib/python3.7/site-packages/sklearn/metrics/_classification.py:1221: UndefinedMetricWarning: Precision and F-score are ill-defined and being set to 0.0 in labels with no predicted samples. Use `zero_division` parameter to control this behavior.\n",
      "  _warn_prf(average, modifier, msg_start, len(result))\n",
      "/opt/anaconda3/envs/pyTorch_projets/lib/python3.7/site-packages/sklearn/metrics/_classification.py:1221: UndefinedMetricWarning: Recall and F-score are ill-defined and being set to 0.0 in labels with no true samples. Use `zero_division` parameter to control this behavior.\n",
      "  _warn_prf(average, modifier, msg_start, len(result))\n"
     ]
    }
   ],
   "source": [
    "X = train_time_series[:1000]\n",
    "y = list(df_train['id'])[:len(X)]\n",
    "print (len(X),len(y))\n",
    "\n",
    "X_train, X_test, y_train, y_test = train_test_split(X, y, test_size=0.2, random_state=0)\n",
    "\n",
    "#Train\n",
    "knn_model = KNeighborsClassifier(metric=DTW, n_neighbors = 1)\n",
    "\n",
    "## Train with GridSearch\n",
    "#parameters = {'n_neighbors':[2, 4, 8]}\n",
    "#knn_model = GridSearchCV(KNeighborsClassifier(metric=DTW), parameters, cv=3, verbose=1)\n",
    "\n",
    "# fit\n",
    "print (\"start fit\")\n",
    "knn_model.fit(X_train, y_train)\n",
    "\n",
    "#evaluate\n",
    "print (\"start eval\")\n",
    "y_pred = knn_model.predict(X_test)\n",
    "print(classification_report(y_test, y_pred))\n",
    "#print (knn_model.best_estimator_)\n",
    "#print (knn_model.best_score_)"
   ]
  },
  {
   "cell_type": "raw",
   "metadata": {},
   "source": [
    "1000 1000\n",
    "start fit\n",
    "start eval\n",
    "                                                             precision    recall  f1-score   support\n",
    "\n",
    "      http://eu.battle.net/sc2/en/profile/1021189/1/Dayshi/       0.00      0.00      0.00         0\n",
    "       http://eu.battle.net/sc2/en/profile/1058669/1/Happy/       0.50      1.00      0.67         1\n",
    "    http://eu.battle.net/sc2/en/profile/1143713/1/uThermal/       0.50      0.67      0.57         3\n",
    "http://eu.battle.net/sc2/en/profile/1173786/1/VPbenQsLivko/       1.00      1.00      1.00         1\n",
    "    http://eu.battle.net/sc2/en/profile/1430346/1/ShoWTimE/       0.00      0.00      0.00         1\n",
    "     http://eu.battle.net/sc2/en/profile/2048063/1/AcerBly/       0.00      0.00      0.00         2\n",
    "    http://eu.battle.net/sc2/en/profile/2101268/1/Stephano/       0.00      0.00      0.00         4\n",
    "    http://eu.battle.net/sc2/en/profile/2115876/1/FireCake/       0.00      0.00      0.00         0\n",
    "      http://eu.battle.net/sc2/en/profile/2222468/1/dTefel/       0.00      0.00      0.00         1\n",
    " http://eu.battle.net/sc2/en/profile/2383348/1/LiquidBunny/       0.25      1.00      0.40         1\n",
    "        http://eu.battle.net/sc2/en/profile/2385865/1/elfi/       0.00      0.00      0.00         0\n",
    "     http://eu.battle.net/sc2/en/profile/239335/1/NightEnD/       0.00      0.00      0.00         0\n",
    "     http://eu.battle.net/sc2/en/profile/2452136/1/MinChul/       1.00      1.00      1.00         4\n",
    "       http://eu.battle.net/sc2/en/profile/250458/1/VortiX/       0.67      1.00      0.80         2\n",
    "     http://eu.battle.net/sc2/en/profile/251061/1/LiveZerg/       0.67      0.80      0.73         5\n",
    "         http://eu.battle.net/sc2/en/profile/2526293/1/Krr/       0.00      0.00      0.00         0\n",
    "   http://eu.battle.net/sc2/en/profile/2639840/1/Miniraser/       1.00      1.00      1.00         1\n",
    "   http://eu.battle.net/sc2/en/profile/284466/1/EGDeMusliM/       0.00      0.00      0.00         2\n",
    "     http://eu.battle.net/sc2/en/profile/2896854/1/MǂForGG/       0.22      0.67      0.33         3\n",
    "         http://eu.battle.net/sc2/en/profile/2898004/1/MMA/       1.00      1.00      1.00         1\n",
    "http://eu.battle.net/sc2/en/profile/3010872/1/FnticHarstem/       1.00      1.00      1.00         5\n",
    "    http://eu.battle.net/sc2/en/profile/3074362/1/Stardust/       0.71      0.71      0.71         7\n",
    "       http://eu.battle.net/sc2/en/profile/315813/1/dBlinG/       1.00      1.00      1.00         1\n",
    "    http://eu.battle.net/sc2/en/profile/326029/1/LiquidTLO/       0.50      0.50      0.50         2\n",
    "         http://eu.battle.net/sc2/en/profile/3368730/1/ToD/       0.80      1.00      0.89         4\n",
    "       http://eu.battle.net/sc2/en/profile/3401218/1/Welmu/       1.00      0.67      0.80         3\n",
    "       http://eu.battle.net/sc2/en/profile/3437681/1/Lambo/       1.00      1.00      1.00         1\n",
    "      http://eu.battle.net/sc2/en/profile/349650/1/HasuObs/       0.00      0.00      0.00         0\n",
    "      http://eu.battle.net/sc2/en/profile/3538115/1/Golden/       1.00      0.50      0.67         2\n",
    "   http://eu.battle.net/sc2/en/profile/377576/1/LiquidMaNa/       1.00      0.75      0.86         4\n",
    "     http://eu.battle.net/sc2/en/profile/377903/1/Starbuck/       0.00      0.00      0.00         1\n",
    "      http://eu.battle.net/sc2/en/profile/3971497/1/Genius/       0.00      0.00      0.00         1\n",
    "    http://eu.battle.net/sc2/en/profile/3973341/1/yoeFWSan/       0.00      0.00      0.00         5\n",
    "        http://eu.battle.net/sc2/en/profile/4064798/1/yoda/       1.00      1.00      1.00         2\n",
    "      http://eu.battle.net/sc2/en/profile/4149248/1/JJAKJI/       0.00      0.00      0.00         1\n",
    "       http://eu.battle.net/sc2/en/profile/4234852/1/First/       0.25      1.00      0.40         1\n",
    "    http://eu.battle.net/sc2/en/profile/4341883/1/Patience/       1.00      0.33      0.50         3\n",
    "    http://eu.battle.net/sc2/en/profile/498165/1/EmpireKas/       1.00      0.50      0.67         2\n",
    "      http://eu.battle.net/sc2/en/profile/788178/1/Nerchio/       1.00      0.67      0.80         3\n",
    "  http://eu.battle.net/sc2/en/profile/884897/1/LiquidSnute/       0.33      0.50      0.40         2\n",
    "       http://eu.battle.net/sc2/en/profile/950504/1/Grubby/       0.33      1.00      0.50         1\n",
    "http://kr.battle.net/sc2/en/profile/1106851/2/IlIlIlllIIll/       0.00      0.00      0.00         1\n",
    "       http://kr.battle.net/sc2/en/profile/1126978/2/iGJim/       1.00      1.00      1.00         2\n",
    "       http://kr.battle.net/sc2/en/profile/2240191/1/Heart/       0.00      0.00      0.00         2\n",
    "        http://kr.battle.net/sc2/en/profile/2332264/1/Zest/       0.00      0.00      0.00         1\n",
    "         http://kr.battle.net/sc2/en/profile/2333068/1/DRG/       0.00      0.00      0.00         0\n",
    "       http://kr.battle.net/sc2/en/profile/2333312/1/TAiLS/       1.00      1.00      1.00         1\n",
    "  http://kr.battle.net/sc2/en/profile/2334376/1/INnoVation/       1.00      1.00      1.00         1\n",
    "     http://kr.battle.net/sc2/en/profile/2341467/1/Classic/       1.00      1.00      1.00         2\n",
    "     http://kr.battle.net/sc2/en/profile/2341492/1/PartinG/       0.00      0.00      0.00         0\n",
    "      http://kr.battle.net/sc2/en/profile/2341700/1/Bbyong/       0.00      0.00      0.00         1\n",
    "     http://kr.battle.net/sc2/en/profile/2342120/1/Soulkey/       0.00      0.00      0.00         0\n",
    "       http://kr.battle.net/sc2/en/profile/2342147/1/hydra/       1.00      1.00      1.00         3\n",
    "      http://kr.battle.net/sc2/en/profile/2342269/1/Savage/       0.00      0.00      0.00         1\n",
    "       http://kr.battle.net/sc2/en/profile/2342343/1/Solar/       0.00      0.00      0.00         2\n",
    "         http://kr.battle.net/sc2/en/profile/2342419/1/soO/       1.00      0.83      0.91         6\n",
    "        http://kr.battle.net/sc2/en/profile/2342766/1/ByuL/       1.00      1.00      1.00         1\n",
    "       http://kr.battle.net/sc2/en/profile/2342794/1/Shine/       1.00      1.00      1.00         3\n",
    "        http://kr.battle.net/sc2/en/profile/2343012/1/Maru/       0.00      0.00      0.00         3\n",
    "       http://kr.battle.net/sc2/en/profile/2343067/1/Stork/       0.00      0.00      0.00         0\n",
    "        http://kr.battle.net/sc2/en/profile/2343240/1/Trap/       0.33      0.50      0.40         2\n",
    "        http://kr.battle.net/sc2/en/profile/2343263/1/Ruin/       1.00      1.00      1.00         1\n",
    "        http://kr.battle.net/sc2/en/profile/2343479/1/True/       0.38      1.00      0.55         3\n",
    "        http://kr.battle.net/sc2/en/profile/2343484/1/herO/       1.00      1.00      1.00         1\n",
    "        http://kr.battle.net/sc2/en/profile/2343607/1/Rain/       0.50      1.00      0.67         1\n",
    "         http://kr.battle.net/sc2/en/profile/2343733/1/sOs/       1.00      1.00      1.00         3\n",
    "     http://kr.battle.net/sc2/en/profile/2344230/1/YongHwa/       0.00      0.00      0.00         1\n",
    "    http://kr.battle.net/sc2/en/profile/2344407/1/Ragnarok/       0.50      1.00      0.67         1\n",
    "    http://kr.battle.net/sc2/en/profile/2344428/1/MyuNgSiK/       1.00      1.00      1.00         1\n",
    "        http://kr.battle.net/sc2/en/profile/2344476/1/Dark/       1.00      1.00      1.00         1\n",
    "        http://kr.battle.net/sc2/en/profile/2344987/1/Life/       0.00      0.00      0.00         2\n",
    "    http://kr.battle.net/sc2/en/profile/2348639/1/ParalyzE/       1.00      1.00      1.00         4\n",
    "        http://kr.battle.net/sc2/en/profile/4324250/1/Kane/       0.00      0.00      0.00         0\n",
    " http://kr.battle.net/sc2/en/profile/4529934/1/SpiderCheck/       0.00      0.00      0.00         1\n",
    "  http://us.battle.net/sc2/en/profile/1317068/1/LiquidHerO/       1.00      1.00      1.00         2\n",
    "http://us.battle.net/sc2/en/profile/1640778/1/Guitarcheese/       0.00      0.00      0.00         1\n",
    "      http://us.battle.net/sc2/en/profile/2133676/1/aloOla/       0.00      0.00      0.00         1\n",
    "        http://us.battle.net/sc2/en/profile/2537456/1/Neeb/       0.00      0.00      0.00         1\n",
    "        http://us.battle.net/sc2/en/profile/2541852/1/MaSa/       0.00      0.00      0.00         1\n",
    "        http://us.battle.net/sc2/en/profile/2553612/1/puCK/       0.50      0.50      0.50         2\n",
    "         http://us.battle.net/sc2/en/profile/2575821/1/HuK/       0.00      0.00      0.00         1\n",
    "      http://us.battle.net/sc2/en/profile/2735594/1/coLqxc/       1.00      1.00      1.00         1\n",
    "    http://us.battle.net/sc2/en/profile/2821952/1/KingkOng/       0.00      0.00      0.00         1\n",
    "   http://us.battle.net/sc2/en/profile/3085708/1/SadArthur/       1.00      0.75      0.86         4\n",
    " http://us.battle.net/sc2/en/profile/3179642/1/CMStormPolt/       1.00      1.00      1.00         2\n",
    "      http://us.battle.net/sc2/en/profile/3202227/1/viOLet/       0.86      1.00      0.92         6\n",
    "   http://us.battle.net/sc2/en/profile/3301677/1/CMRevival/       1.00      0.75      0.86         4\n",
    "       http://us.battle.net/sc2/en/profile/3426440/1/PkDOz/       0.25      1.00      0.40         1\n",
    "http://us.battle.net/sc2/en/profile/3426440/1/llllllllllll/       0.00      0.00      0.00         3\n",
    " http://us.battle.net/sc2/en/profile/3502513/1/LiquidTaeJa/       0.00      0.00      0.00         1\n",
    "       http://us.battle.net/sc2/en/profile/3650249/1/CranK/       1.00      0.50      0.67         2\n",
    "    http://us.battle.net/sc2/en/profile/3817071/1/iGMacSed/       0.00      0.00      0.00         0\n",
    "       http://us.battle.net/sc2/en/profile/3819890/1/shofu/       0.00      0.00      0.00         3\n",
    "       http://us.battle.net/sc2/en/profile/3949344/1/WinDy/       0.00      0.00      0.00         1\n",
    "      http://us.battle.net/sc2/en/profile/3985949/1/Bomber/       0.50      0.50      0.50         2\n",
    "     http://us.battle.net/sc2/en/profile/4167590/1/AxHeart/       1.00      0.33      0.50         3\n",
    "    http://us.battle.net/sc2/en/profile/4174681/1/AxAlicia/       1.00      1.00      1.00         1\n",
    "       http://us.battle.net/sc2/en/profile/4176016/1/iaguz/       0.50      1.00      0.67         1\n",
    "        http://us.battle.net/sc2/en/profile/4417787/1/HyuN/       1.00      0.33      0.50         3\n",
    "       http://us.battle.net/sc2/en/profile/443514/1/desRow/       0.00      0.00      0.00         2\n",
    "  http://us.battle.net/sc2/en/profile/4580578/1/ZooCourage/       0.00      0.00      0.00         2\n",
    "  http://us.battle.net/sc2/en/profile/4589387/1/ToodmingCN/       0.25      1.00      0.40         1\n",
    "       http://us.battle.net/sc2/en/profile/4609532/1/aLive/       0.00      0.00      0.00         1\n",
    "    http://us.battle.net/sc2/en/profile/4629528/1/IMNesTea/       0.50      1.00      0.67         1\n",
    "     http://us.battle.net/sc2/en/profile/4665241/1/Pigbaby/       1.00      0.40      0.57         5\n",
    "   http://us.battle.net/sc2/en/profile/5068246/1/yoeFWSlam/       0.00      0.00      0.00         1\n",
    "      http://us.battle.net/sc2/en/profile/5142993/1/Bomber/       0.00      0.00      0.00         1\n",
    " http://us.battle.net/sc2/en/profile/5376901/1/SpiderCheck/       0.00      0.00      0.00         1\n",
    "         http://us.battle.net/sc2/en/profile/5393959/1/Sen/       1.00      1.00      1.00         1\n",
    "        http://us.battle.net/sc2/en/profile/902213/1/Suppy/       1.00      1.00      1.00         1\n",
    "\n",
    "                                                   accuracy                           0.58       200\n",
    "                                                  macro avg       0.46      0.49      0.45       200\n",
    "                                               weighted avg       0.61      0.58      0.57       200"
   ]
  },
  {
   "cell_type": "markdown",
   "metadata": {},
   "source": [
    "## Evaluating the unlabeled testing set - Creating submission file"
   ]
  },
  {
   "cell_type": "code",
   "execution_count": null,
   "metadata": {},
   "outputs": [],
   "source": [
    "#Train\n",
    "#knn_model = KNeighborsClassifier(metric=DTW, n_neighbors = 1)\n",
    "print (\"fitting model\")\n",
    "#knn_model.fit(train_time_series, list(df_train[\"id\"]))\n",
    "print (\"predicting model\")\n",
    "y_pred = knn_model.predict(test_time_series)"
   ]
  },
  {
   "cell_type": "code",
   "execution_count": null,
   "metadata": {},
   "outputs": [],
   "source": [
    "file_name = \"submission7\"\n",
    "df_submission = pd.DataFrame()\n",
    "df_submission['RowId'] = range(1,len(y_pred)+1)\n",
    "df_submission['prediction'] = y_pred\n",
    "df_submission.to_csv('/kaggle/working/'+file_name+'.csv', index = False)\n",
    "df_submission.head()"
   ]
  },
  {
   "cell_type": "markdown",
   "metadata": {},
   "source": [
    "# ---------------------MORE VISUALISATION----------------------- "
   ]
  },
  {
   "cell_type": "code",
   "execution_count": null,
   "metadata": {},
   "outputs": [],
   "source": [
    "#count number of players/labels in training dataset\n",
    "\n",
    "list_unique_id = np.array(df_train[\"id\"].unique())\n",
    "print (\"there are %d player labels in the training dataset\"%len(list_unique_id))"
   ]
  },
  {
   "cell_type": "code",
   "execution_count": null,
   "metadata": {},
   "outputs": [],
   "source": [
    "# [old Code]\n",
    "\n",
    "# Adding first feature = type of game played\n",
    " \n",
    "# For each id count how many game types he is associated to.\n",
    "number_players = len(list_unique_id)\n",
    "game_types = list()\n",
    "for player_id in list_unique_id:\n",
    "    \n",
    "    player_history = df_train[df_train[\"id\"]== player_id]\n",
    "    game_types.append(len (player_history[\"game_type\"].unique()))\n",
    "avg = sum(game_types)/number_players\n",
    "print(\"average number of types of games played by a player = \" +  str(avg))\n",
    "print(game_types)\n",
    "print(\"This shows that a player only plays on one type of game\")"
   ]
  },
  {
   "cell_type": "code",
   "execution_count": null,
   "metadata": {},
   "outputs": [],
   "source": [
    "# get information on the length of games\n",
    "\n",
    "moves_sec = list()\n",
    "#df_train = df_train.head()\n",
    "\n",
    "data = df_train.head(1000)\n",
    "total_moves_list = []\n",
    "game_times = []\n",
    "lenth_of_line = df_train.shape[1]\n",
    "for player_game_index in range (data.shape[0]):\n",
    "    total_moves = 0\n",
    "    game_time = 0\n",
    "    for move_number in range (lenth_of_line-2):\n",
    "        move = data.iloc[player_game_index][\"move\"+str(move_number)] #\n",
    "        #print (move)\n",
    "        if (not pd.isnull(move)):\n",
    "            if move[:1] == \"t\":\n",
    "                #game_time = int(move[1:])\n",
    "                game_time += 5 \n",
    "            else:\n",
    "                total_moves +=1\n",
    "    game_time += 0\n",
    "    game_times.append(game_time)\n",
    "    total_moves_list.append(total_moves)"
   ]
  },
  {
   "cell_type": "code",
   "execution_count": null,
   "metadata": {},
   "outputs": [],
   "source": [
    "import matplotlib.pyplot as plt\n",
    "plt.figure(1)\n",
    "plt.title(\"hist of game time\")\n",
    "plt.hist(game_times, bins=20)\n",
    "plt.figure(2)\n",
    "plt.title(\"hist of number of moves per game\")\n",
    "plt.hist(total_moves_list, bins=20)\n",
    "#game_times\n",
    "limit =50\n",
    "short_games = [time for time in game_times if time<limit]\n",
    "print (\"Only\", len(short_games), \"games finish before\",limit,\"seconds\")"
   ]
  },
  {
   "cell_type": "code",
   "execution_count": null,
   "metadata": {},
   "outputs": [],
   "source": [
    "# RACE REPARTITION\n",
    "races = df_train['game_type'].value_counts()\n",
    "print(races)\n",
    "plt = races.plot.bar()"
   ]
  },
  {
   "cell_type": "code",
   "execution_count": null,
   "metadata": {},
   "outputs": [],
   "source": [
    "# number of games per player \n",
    "player_counts = df_train['id'].value_counts()\n",
    "print(player_counts.describe())"
   ]
  },
  {
   "cell_type": "markdown",
   "metadata": {},
   "source": [
    "# list of unique actions\n",
    "def find_unique_actions(df):\n",
    "    unique_actions = set()\n",
    "    actions = df.shape[0]\n",
    "    for game_index in range(actions):\n",
    "        for a in df.iloc[game_index]:\n",
    "            if not pd.isnull(a) and a[0]!='t':\n",
    "                unique_actions.add(a)\n",
    "    return unique_actions\n",
    "\n",
    "unique_hotkeys = sorted(list(find_unique_actions(df_train.drop(['id','game_type'], inplace=False, axis=1))))\n",
    "print(unique_hotkeys)\n",
    "\n",
    "keys = list(set([hotkey[:len(hotkey)-1] for hotkey in unique_hotkeys if 'hotkey' in hotkey]))\n",
    "print(keys)"
   ]
  },
  {
   "cell_type": "markdown",
   "metadata": {},
   "source": [
    "def evaluate(model, test_features, test_labels):\n",
    "    y_pred = model.predict(test_features)\n",
    "    accuracy = metrics.accuracy_score(y_test, y_pred)\n",
    "    #print(\"Accuracy:\",accuracy)\n",
    "    return accuracy"
   ]
  },
  {
   "cell_type": "markdown",
   "metadata": {},
   "source": [
    "# DTW Tutorial"
   ]
  },
  {
   "cell_type": "code",
   "execution_count": null,
   "metadata": {},
   "outputs": [],
   "source": [
    "# https://dynamictimewarping.github.io/python/\n",
    "# https://dynamictimewarping.github.io/py-api/html/\n",
    "# https://stats.stackexchange.com/questions/109343/dynamic-time-warping-for-irregular-time-series\n",
    "from dtw import *\n",
    "#?dtw\n",
    "#help(DTW)"
   ]
  },
  {
   "cell_type": "code",
   "execution_count": null,
   "metadata": {},
   "outputs": [],
   "source": [
    "import numpy as np\n",
    "\n",
    "## A noisy sine wave as query\n",
    "idx = np.linspace(0,6.28,num=100)\n",
    "query = np.sin(idx) + np.random.uniform(size=100)/10.0\n",
    "\n",
    "## A cosine is for template; sin and cos are offset by 25 samples\n",
    "template = np.cos(idx)\n",
    "\n",
    "## Find the best match with the canonical recursion formula\n",
    "from dtw import *\n",
    "alignment = dtw(query, template, keep_internals=True)\n",
    "\n",
    "## Display the warping curve, i.e. the alignment curve\n",
    "alignment.plot(type=\"threeway\")\n",
    "\n",
    "## Align and plot with the Rabiner-Juang type VI-c unsmoothed recursion\n",
    "dtw(query, template, keep_internals=True, \n",
    "    step_pattern=rabinerJuangStepPattern(6, \"c\"))\\\n",
    "    .plot(type=\"twoway\",offset=-2)\n",
    "\n",
    "## See the recursion relation, as formula and diagram\n",
    "print(rabinerJuangStepPattern(6,\"c\"))\n",
    "rabinerJuangStepPattern(6,\"c\").plot()\n",
    "\n",
    "## And much more!"
   ]
  }
 ],
 "metadata": {
  "kernelspec": {
   "display_name": "Python 3",
   "language": "python",
   "name": "python3"
  },
  "language_info": {
   "codemirror_mode": {
    "name": "ipython",
    "version": 3
   },
   "file_extension": ".py",
   "mimetype": "text/x-python",
   "name": "python",
   "nbconvert_exporter": "python",
   "pygments_lexer": "ipython3",
   "version": "3.7.9"
  }
 },
 "nbformat": 4,
 "nbformat_minor": 4
}
